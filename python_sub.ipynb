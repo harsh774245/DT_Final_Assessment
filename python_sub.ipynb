{
 "cells": [
  {
   "cell_type": "code",
   "execution_count": 4,
   "metadata": {},
   "outputs": [
    {
     "name": "stdout",
     "output_type": "stream",
     "text": [
      "{\"Name\": \"Rohit\", \"Roll No\": 101, \"CGPA\": 7.6, \"Ph No\": \"7678579***\"}\n",
      "<class 'str'>\n"
     ]
    }
   ],
   "source": [
    "# 1.\n",
    "d = {'Name': 'Rohit', 'Roll No': 101, 'CGPA': 7.6, 'Ph No':'7678579***'}\n",
    "import json\n",
    "obj=json.dumps(d)\n",
    "print(obj)"
   ]
  },
  {
   "cell_type": "code",
   "execution_count": 15,
   "metadata": {},
   "outputs": [],
   "source": [
    "# 2.\n",
    "# 23j"
   ]
  },
  {
   "cell_type": "code",
   "execution_count": 11,
   "metadata": {},
   "outputs": [
    {
     "name": "stdout",
     "output_type": "stream",
     "text": [
      "1000"
     ]
    }
   ],
   "source": [
    "# 3.\n",
    "# The question is a little hazy\n",
    "def DecimalToBinary(num):\n",
    "        if num > 1:\n",
    "            DecimalToBinary(num // 2)\n",
    "        print (num % 2, end='')\n",
    "DecimalToBinary(8)"
   ]
  },
  {
   "cell_type": "code",
   "execution_count": 12,
   "metadata": {},
   "outputs": [
    {
     "name": "stdout",
     "output_type": "stream",
     "text": [
      "Harsh vardhan palawat\n",
      "DataTrained Education\n",
      "Data Science\n",
      "Python\n",
      "Artificial Intelligence\n",
      "EDA\n"
     ]
    }
   ],
   "source": [
    "# 4.\n",
    "fn = open('a.txt', 'r') \n",
    "  \n",
    "fn1 = open('anew.txt', 'w') \n",
    "  \n",
    "# read the content of the file line by line \n",
    "cont = fn.readlines() \n",
    "type(cont) \n",
    "for i in range(0, len(cont)): \n",
    "    if(i!=5): \n",
    "        fn1.write(cont[i]) \n",
    "    else: \n",
    "        pass\n",
    "    \n",
    "fn1.close() \n",
    "  \n",
    "# open file in read mode \n",
    "fn1 = open('anew.txt', 'r') \n",
    "  \n",
    "# read the content of the file \n",
    "cont1 = fn1.read() \n",
    "  \n",
    "# print the content of the file \n",
    "print(cont1) \n",
    "  \n",
    "fn.close() \n",
    "fn1.close() "
   ]
  },
  {
   "cell_type": "code",
   "execution_count": 13,
   "metadata": {},
   "outputs": [
    {
     "name": "stdout",
     "output_type": "stream",
     "text": [
      "The file is not empty\n"
     ]
    }
   ],
   "source": [
    "# 5.\n",
    "import os\n",
    "filesize = os.path.getsize(\"a.txt\")\n",
    "if filesize == 0:\n",
    "    print('The file is empty')\n",
    "else:\n",
    "    print('The file is not empty')"
   ]
  },
  {
   "cell_type": "code",
   "execution_count": 14,
   "metadata": {},
   "outputs": [
    {
     "name": "stdout",
     "output_type": "stream",
     "text": [
      "Enter file name: a.txt\n",
      "EDA\n",
      "Machine Learning\n",
      "Artificial Intelligence\n",
      "Python\n",
      "Data Science\n",
      "DataTrained Education\n",
      "Harsh vardhan palawat\n"
     ]
    }
   ],
   "source": [
    "# 8.\n",
    "filename=input(\"Enter file name: \")\n",
    "for line in reversed(list(open(filename))):\n",
    "    print(line.rstrip())"
   ]
  },
  {
   "cell_type": "code",
   "execution_count": 16,
   "metadata": {},
   "outputs": [
    {
     "name": "stdout",
     "output_type": "stream",
     "text": [
      "Enter a name or number: 2100012\n",
      "Palindrome\n"
     ]
    }
   ],
   "source": [
    "# 6.\n",
    "c = input('Enter a name or number: ')\n",
    "if c==c[::-1]:\n",
    "    print(\"Palindrome\")\n",
    "else:\n",
    "    print('Not Palindrome')"
   ]
  },
  {
   "cell_type": "code",
   "execution_count": 22,
   "metadata": {},
   "outputs": [
    {
     "data": {
      "text/plain": [
       "('test_image.jpg', <http.client.HTTPMessage at 0x7f771c6eb8b0>)"
      ]
     },
     "execution_count": 22,
     "metadata": {},
     "output_type": "execute_result"
    }
   ],
   "source": [
    "# 9.\n",
    "import urllib.request\n",
    "urllib.request.urlretrieve(\"https://www.apple.com/newsroom/images/values/corporate/standard/Apple_google-partner-on-covid-19-contact-tracing-technology_04102020_LP_hero.jpg.og.jpg\", \"test_image.jpg\")"
   ]
  },
  {
   "cell_type": "markdown",
   "metadata": {},
   "source": [
    "7. Dogpile effect is referred to the event when cache expires, and websites are hit by the multiple requests made by the client at the same time. This effect can be prevented by using semaphore lock. In this system when value expires, first process acquires the lock and starts generating new value."
   ]
  },
  {
   "cell_type": "markdown",
   "metadata": {},
   "source": [
    "10. Class is a prototype for objects which is a user-defined type. It specifies and defines objects of the same type. \n",
    "\n",
    "\n",
    "Now, the internal data of an object must be kept private. But there should be some methods in the class interface that can permit the user of an object to access and alter the data (that is stored internally) in a calm manner. Therefore, for that case we have two methods namely Accessors and Mutators that are helpful in accessing and altering respectively, internally stored data.\n",
    "\n",
    "\n",
    "Accessor method is used to access the state of the object i.e, the data hidden in the object can be accessed from this method. However, this method cannot change the state of the object, it can only access the hidden data. We can name these methods with the word get.\n",
    "\n",
    "\n",
    "Mutator method is used to mutate/modify the state of an object i.e, it alters the hidden value of the data variable. It can set the value of a variable instantly to a new value. This method is also called as update method. Moreover, we can name these methods with the word set.\n",
    "\n",
    "The main purpose of Property() function is to create property of a class. The syntax is property(fget, fset, fdel, doc). If no arguments are given, property() method returns a base property attribute that doesn’t contain any getter, setter or deleter. If doc isn’t provided, property() method takes the docstring of the getter function.\n"
   ]
  },
  {
   "cell_type": "code",
   "execution_count": 3,
   "metadata": {},
   "outputs": [
    {
     "name": "stdout",
     "output_type": "stream",
     "text": [
      "Getting value\n",
      "GeeksforGeeks\n",
      "Setting value to GfG\n",
      "Deleting value\n"
     ]
    }
   ],
   "source": [
    "# Python program to explain property() function \n",
    "\n",
    "# Alphabet class \n",
    "class Alphabet: \n",
    "\tdef __init__(self, value): \n",
    "\t\tself._value = value \n",
    "\t\t\n",
    "\t# getting the values \n",
    "\tdef getValue(self): \n",
    "\t\tprint('Getting value') \n",
    "\t\treturn self._value \n",
    "\t\t\n",
    "\t# setting the values \n",
    "\tdef setValue(self, value): \n",
    "\t\tprint('Setting value to ' + value) \n",
    "\t\tself._value = value \n",
    "\t\t\n",
    "\t# deleting the values \n",
    "\tdef delValue(self): \n",
    "\t\tprint('Deleting value') \n",
    "\t\tdel self._value \n",
    "\t\n",
    "\tvalue = property(getValue, setValue, delValue, ) \n",
    "\n",
    "# passing the value \n",
    "x = Alphabet('GeeksforGeeks') \n",
    "print(x.value) \n",
    "\n",
    "x.value = 'GfG'\n",
    "\n",
    "del x.value \n"
   ]
  },
  {
   "cell_type": "code",
   "execution_count": 13,
   "metadata": {},
   "outputs": [
    {
     "name": "stdout",
     "output_type": "stream",
     "text": [
      "Ford\n",
      "Porche\n"
     ]
    }
   ],
   "source": [
    "# Python program to illustrate the use of \n",
    "# Accessor and Mutator methods \n",
    "\n",
    "# Defining class Car \n",
    "class Car: \n",
    "\n",
    "\t# Defining method init method with a parameter \n",
    "\tdef __init__(self, carname): \n",
    "\t\tself.__make = carname \n",
    "\n",
    "\t# Defining Mutator Method \n",
    "\tdef set_make(self, carname): \n",
    "\t\tself.__make = carname \n",
    "\n",
    "\t# Defining Accessor Method \n",
    "\tdef get_make(self): \n",
    "\t\treturn self.__make \n",
    "\n",
    "# Creating an object \n",
    "myCar = Car('Ford'); \n",
    "\n",
    "# Accesses the value of the variable \n",
    "# using Accessor method and then \n",
    "# prints it \n",
    "print (myCar.get_make()) \n",
    "\n",
    "# Modifying the value of the variable \n",
    "# using Mutator method \n",
    "myCar.set_make('Porche') \n",
    "\n",
    "# Prints the modified value \n",
    "print (myCar.get_make()) "
   ]
  },
  {
   "cell_type": "markdown",
   "metadata": {},
   "source": [
    "So, here the name of the car was accessed using Accessor method i.e, get_make and then it was modified using Mutator method i.e, set_make."
   ]
  },
  {
   "cell_type": "markdown",
   "metadata": {},
   "source": [
    "11. Method overriding is an ability of any object-oriented programming language that allows a subclass or child class to provide a specific implementation of a method that is already provided by one of its super-classes or parent classes. When a method in a subclass has the same name, same parameters or signature and same return type(or sub-type) as a method in its super-class, then the method in the subclass is said to override the method in the super-class."
   ]
  },
  {
   "cell_type": "code",
   "execution_count": 14,
   "metadata": {},
   "outputs": [
    {
     "name": "stdout",
     "output_type": "stream",
     "text": [
      "Inside Parent\n",
      "Inside Child\n"
     ]
    }
   ],
   "source": [
    "# Python program to demonstrate \n",
    "# method overriding \n",
    "\n",
    "\n",
    "# Defining parent class \n",
    "class Parent(): \n",
    "\t\n",
    "\t# Constructor \n",
    "\tdef __init__(self): \n",
    "\t\tself.value = \"Inside Parent\"\n",
    "\t\t\n",
    "\t# Parent's show method \n",
    "\tdef show(self): \n",
    "\t\tprint(self.value) \n",
    "\t\t\n",
    "# Defining child class \n",
    "class Child(Parent): \n",
    "\t\n",
    "\t# Constructor \n",
    "\tdef __init__(self): \n",
    "\t\tself.value = \"Inside Child\"\n",
    "\t\t\n",
    "\t# Child's show method \n",
    "\tdef show(self): \n",
    "\t\tprint(self.value) \n",
    "\t\t\n",
    "\t\t\n",
    "# Driver's code \n",
    "obj1 = Parent() \n",
    "obj2 = Child() \n",
    "\n",
    "obj1.show() \n",
    "obj2.show() \n"
   ]
  },
  {
   "cell_type": "code",
   "execution_count": null,
   "metadata": {},
   "outputs": [],
   "source": []
  },
  {
   "cell_type": "code",
   "execution_count": null,
   "metadata": {},
   "outputs": [],
   "source": []
  }
 ],
 "metadata": {
  "kernelspec": {
   "display_name": "Python 3",
   "language": "python",
   "name": "python3"
  },
  "language_info": {
   "codemirror_mode": {
    "name": "ipython",
    "version": 3
   },
   "file_extension": ".py",
   "mimetype": "text/x-python",
   "name": "python",
   "nbconvert_exporter": "python",
   "pygments_lexer": "ipython3",
   "version": "3.8.5"
  }
 },
 "nbformat": 4,
 "nbformat_minor": 4
}
