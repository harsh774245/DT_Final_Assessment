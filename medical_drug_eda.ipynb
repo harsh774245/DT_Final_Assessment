{
 "cells": [
  {
   "cell_type": "code",
   "execution_count": 1,
   "metadata": {},
   "outputs": [],
   "source": [
    "import pandas as pd\n",
    "import matplotlib.pyplot as plt\n",
    "import seaborn as sns"
   ]
  },
  {
   "cell_type": "code",
   "execution_count": 2,
   "metadata": {},
   "outputs": [
    {
     "data": {
      "text/html": [
       "<div>\n",
       "<style scoped>\n",
       "    .dataframe tbody tr th:only-of-type {\n",
       "        vertical-align: middle;\n",
       "    }\n",
       "\n",
       "    .dataframe tbody tr th {\n",
       "        vertical-align: top;\n",
       "    }\n",
       "\n",
       "    .dataframe thead th {\n",
       "        text-align: right;\n",
       "    }\n",
       "</style>\n",
       "<table border=\"1\" class=\"dataframe\">\n",
       "  <thead>\n",
       "    <tr style=\"text-align: right;\">\n",
       "      <th></th>\n",
       "      <th>Unnamed: 0</th>\n",
       "      <th>drugName</th>\n",
       "      <th>condition</th>\n",
       "      <th>review</th>\n",
       "      <th>rating</th>\n",
       "      <th>date</th>\n",
       "      <th>usefulCount</th>\n",
       "      <th>drug_class</th>\n",
       "      <th>sentiment</th>\n",
       "      <th>sentiment_label</th>\n",
       "    </tr>\n",
       "  </thead>\n",
       "  <tbody>\n",
       "    <tr>\n",
       "      <th>0</th>\n",
       "      <td>206461</td>\n",
       "      <td>Valsartan</td>\n",
       "      <td>Left Ventricular Dysfunction</td>\n",
       "      <td>\"It has no side effect, I take it in combinati...</td>\n",
       "      <td>9.0</td>\n",
       "      <td>May 20, 2012</td>\n",
       "      <td>27</td>\n",
       "      <td>arb blocker</td>\n",
       "      <td>0.000000</td>\n",
       "      <td>neutral</td>\n",
       "    </tr>\n",
       "    <tr>\n",
       "      <th>1</th>\n",
       "      <td>95260</td>\n",
       "      <td>Guanfacine</td>\n",
       "      <td>ADHD</td>\n",
       "      <td>\"My son is halfway through his fourth week of ...</td>\n",
       "      <td>8.0</td>\n",
       "      <td>April 27, 2010</td>\n",
       "      <td>192</td>\n",
       "      <td>NaN</td>\n",
       "      <td>0.168333</td>\n",
       "      <td>positive</td>\n",
       "    </tr>\n",
       "    <tr>\n",
       "      <th>2</th>\n",
       "      <td>92703</td>\n",
       "      <td>Lybrel</td>\n",
       "      <td>Birth Control</td>\n",
       "      <td>\"I used to take another oral contraceptive, wh...</td>\n",
       "      <td>5.0</td>\n",
       "      <td>December 14, 2009</td>\n",
       "      <td>17</td>\n",
       "      <td>NaN</td>\n",
       "      <td>0.067210</td>\n",
       "      <td>positive</td>\n",
       "    </tr>\n",
       "    <tr>\n",
       "      <th>3</th>\n",
       "      <td>138000</td>\n",
       "      <td>Ortho Evra</td>\n",
       "      <td>Birth Control</td>\n",
       "      <td>\"This is my first time using any form of birth...</td>\n",
       "      <td>8.0</td>\n",
       "      <td>November 3, 2015</td>\n",
       "      <td>10</td>\n",
       "      <td>NaN</td>\n",
       "      <td>0.179545</td>\n",
       "      <td>positive</td>\n",
       "    </tr>\n",
       "    <tr>\n",
       "      <th>4</th>\n",
       "      <td>35696</td>\n",
       "      <td>Buprenorphine / naloxone</td>\n",
       "      <td>Opiate Dependence</td>\n",
       "      <td>\"Suboxone has completely turned my life around...</td>\n",
       "      <td>9.0</td>\n",
       "      <td>November 27, 2016</td>\n",
       "      <td>37</td>\n",
       "      <td>NaN</td>\n",
       "      <td>0.194444</td>\n",
       "      <td>positive</td>\n",
       "    </tr>\n",
       "  </tbody>\n",
       "</table>\n",
       "</div>"
      ],
      "text/plain": [
       "   Unnamed: 0                  drugName                     condition  \\\n",
       "0      206461                 Valsartan  Left Ventricular Dysfunction   \n",
       "1       95260                Guanfacine                          ADHD   \n",
       "2       92703                    Lybrel                 Birth Control   \n",
       "3      138000                Ortho Evra                 Birth Control   \n",
       "4       35696  Buprenorphine / naloxone             Opiate Dependence   \n",
       "\n",
       "                                              review  rating  \\\n",
       "0  \"It has no side effect, I take it in combinati...     9.0   \n",
       "1  \"My son is halfway through his fourth week of ...     8.0   \n",
       "2  \"I used to take another oral contraceptive, wh...     5.0   \n",
       "3  \"This is my first time using any form of birth...     8.0   \n",
       "4  \"Suboxone has completely turned my life around...     9.0   \n",
       "\n",
       "                date  usefulCount   drug_class  sentiment sentiment_label  \n",
       "0       May 20, 2012           27  arb blocker   0.000000         neutral  \n",
       "1     April 27, 2010          192          NaN   0.168333        positive  \n",
       "2  December 14, 2009           17          NaN   0.067210        positive  \n",
       "3   November 3, 2015           10          NaN   0.179545        positive  \n",
       "4  November 27, 2016           37          NaN   0.194444        positive  "
      ]
     },
     "execution_count": 2,
     "metadata": {},
     "output_type": "execute_result"
    }
   ],
   "source": [
    "data=pd.read_csv('drug_data.csv')\n",
    "data.head()"
   ]
  },
  {
   "cell_type": "markdown",
   "metadata": {},
   "source": [
    "# Basic Data Understanding"
   ]
  },
  {
   "cell_type": "code",
   "execution_count": 3,
   "metadata": {},
   "outputs": [
    {
     "data": {
      "text/plain": [
       "(161297, 10)"
      ]
     },
     "execution_count": 3,
     "metadata": {},
     "output_type": "execute_result"
    }
   ],
   "source": [
    "data.shape"
   ]
  },
  {
   "cell_type": "code",
   "execution_count": 4,
   "metadata": {},
   "outputs": [
    {
     "data": {
      "text/plain": [
       "Unnamed: 0              0\n",
       "drugName                0\n",
       "condition             899\n",
       "review                  0\n",
       "rating                  0\n",
       "date                    0\n",
       "usefulCount             0\n",
       "drug_class         137837\n",
       "sentiment               0\n",
       "sentiment_label         0\n",
       "dtype: int64"
      ]
     },
     "execution_count": 4,
     "metadata": {},
     "output_type": "execute_result"
    }
   ],
   "source": [
    "data.isnull().sum()"
   ]
  },
  {
   "cell_type": "code",
   "execution_count": 5,
   "metadata": {},
   "outputs": [],
   "source": [
    "# Most of the drug class is a null value"
   ]
  },
  {
   "cell_type": "code",
   "execution_count": 7,
   "metadata": {},
   "outputs": [
    {
     "data": {
      "text/plain": [
       "161297"
      ]
     },
     "execution_count": 7,
     "metadata": {},
     "output_type": "execute_result"
    }
   ],
   "source": [
    "data['Unnamed: 0'].nunique()"
   ]
  },
  {
   "cell_type": "code",
   "execution_count": 8,
   "metadata": {},
   "outputs": [],
   "source": [
    "# All the values in Unnamed column are unique. It must be ID column"
   ]
  },
  {
   "cell_type": "code",
   "execution_count": 9,
   "metadata": {},
   "outputs": [
    {
     "data": {
      "text/plain": [
       "Unnamed: 0           int64\n",
       "drugName            object\n",
       "condition           object\n",
       "review              object\n",
       "rating             float64\n",
       "date                object\n",
       "usefulCount          int64\n",
       "drug_class          object\n",
       "sentiment          float64\n",
       "sentiment_label     object\n",
       "dtype: object"
      ]
     },
     "execution_count": 9,
     "metadata": {},
     "output_type": "execute_result"
    }
   ],
   "source": [
    "data.dtypes"
   ]
  },
  {
   "cell_type": "code",
   "execution_count": 10,
   "metadata": {},
   "outputs": [
    {
     "data": {
      "text/html": [
       "<div>\n",
       "<style scoped>\n",
       "    .dataframe tbody tr th:only-of-type {\n",
       "        vertical-align: middle;\n",
       "    }\n",
       "\n",
       "    .dataframe tbody tr th {\n",
       "        vertical-align: top;\n",
       "    }\n",
       "\n",
       "    .dataframe thead th {\n",
       "        text-align: right;\n",
       "    }\n",
       "</style>\n",
       "<table border=\"1\" class=\"dataframe\">\n",
       "  <thead>\n",
       "    <tr style=\"text-align: right;\">\n",
       "      <th></th>\n",
       "      <th>Unnamed: 0</th>\n",
       "      <th>rating</th>\n",
       "      <th>usefulCount</th>\n",
       "      <th>sentiment</th>\n",
       "    </tr>\n",
       "  </thead>\n",
       "  <tbody>\n",
       "    <tr>\n",
       "      <th>count</th>\n",
       "      <td>161297.000000</td>\n",
       "      <td>161297.000000</td>\n",
       "      <td>161297.000000</td>\n",
       "      <td>161297.000000</td>\n",
       "    </tr>\n",
       "    <tr>\n",
       "      <th>mean</th>\n",
       "      <td>115923.585305</td>\n",
       "      <td>6.994377</td>\n",
       "      <td>28.004755</td>\n",
       "      <td>0.064847</td>\n",
       "    </tr>\n",
       "    <tr>\n",
       "      <th>std</th>\n",
       "      <td>67004.445170</td>\n",
       "      <td>3.272329</td>\n",
       "      <td>36.403742</td>\n",
       "      <td>0.222437</td>\n",
       "    </tr>\n",
       "    <tr>\n",
       "      <th>min</th>\n",
       "      <td>2.000000</td>\n",
       "      <td>1.000000</td>\n",
       "      <td>0.000000</td>\n",
       "      <td>-1.000000</td>\n",
       "    </tr>\n",
       "    <tr>\n",
       "      <th>25%</th>\n",
       "      <td>58063.000000</td>\n",
       "      <td>5.000000</td>\n",
       "      <td>6.000000</td>\n",
       "      <td>-0.043264</td>\n",
       "    </tr>\n",
       "    <tr>\n",
       "      <th>50%</th>\n",
       "      <td>115744.000000</td>\n",
       "      <td>8.000000</td>\n",
       "      <td>16.000000</td>\n",
       "      <td>0.058202</td>\n",
       "    </tr>\n",
       "    <tr>\n",
       "      <th>75%</th>\n",
       "      <td>173776.000000</td>\n",
       "      <td>10.000000</td>\n",
       "      <td>36.000000</td>\n",
       "      <td>0.173722</td>\n",
       "    </tr>\n",
       "    <tr>\n",
       "      <th>max</th>\n",
       "      <td>232291.000000</td>\n",
       "      <td>10.000000</td>\n",
       "      <td>1291.000000</td>\n",
       "      <td>1.000000</td>\n",
       "    </tr>\n",
       "  </tbody>\n",
       "</table>\n",
       "</div>"
      ],
      "text/plain": [
       "          Unnamed: 0         rating    usefulCount      sentiment\n",
       "count  161297.000000  161297.000000  161297.000000  161297.000000\n",
       "mean   115923.585305       6.994377      28.004755       0.064847\n",
       "std     67004.445170       3.272329      36.403742       0.222437\n",
       "min         2.000000       1.000000       0.000000      -1.000000\n",
       "25%     58063.000000       5.000000       6.000000      -0.043264\n",
       "50%    115744.000000       8.000000      16.000000       0.058202\n",
       "75%    173776.000000      10.000000      36.000000       0.173722\n",
       "max    232291.000000      10.000000    1291.000000       1.000000"
      ]
     },
     "execution_count": 10,
     "metadata": {},
     "output_type": "execute_result"
    }
   ],
   "source": [
    "data.describe()"
   ]
  },
  {
   "cell_type": "code",
   "execution_count": 11,
   "metadata": {},
   "outputs": [],
   "source": [
    "# The value of ratings range from 1 to 10\n",
    "# There is a lot of variation in usefulCount also\n",
    "# Min value of sentiment is -1 and max is 1"
   ]
  },
  {
   "cell_type": "code",
   "execution_count": 13,
   "metadata": {},
   "outputs": [
    {
     "data": {
      "text/plain": [
       "3436"
      ]
     },
     "execution_count": 13,
     "metadata": {},
     "output_type": "execute_result"
    }
   ],
   "source": [
    "data['drugName'].nunique()"
   ]
  },
  {
   "cell_type": "code",
   "execution_count": 20,
   "metadata": {},
   "outputs": [
    {
     "data": {
      "text/plain": [
       "Levonorgestrel                        3657\n",
       "Etonogestrel                          3336\n",
       "Ethinyl estradiol / norethindrone     2850\n",
       "Nexplanon                             2156\n",
       "Ethinyl estradiol / norgestimate      2117\n",
       "Ethinyl estradiol / levonorgestrel    1888\n",
       "Phentermine                           1543\n",
       "Sertraline                            1360\n",
       "Escitalopram                          1292\n",
       "Mirena                                1242\n",
       "Implanon                              1102\n",
       "Gabapentin                            1047\n",
       "Bupropion                             1022\n",
       "Venlafaxine                           1016\n",
       "Miconazole                            1000\n",
       "Citalopram                             995\n",
       "Medroxyprogesterone                    995\n",
       "Lexapro                                952\n",
       "Bupropion / naltrexone                 950\n",
       "Duloxetine                             934\n",
       "Name: drugName, dtype: int64"
      ]
     },
     "execution_count": 20,
     "metadata": {},
     "output_type": "execute_result"
    }
   ],
   "source": [
    "data['drugName'].value_counts().head(20)"
   ]
  },
  {
   "cell_type": "code",
   "execution_count": 17,
   "metadata": {},
   "outputs": [],
   "source": [
    "# These are the drugs having maximum number of records."
   ]
  },
  {
   "cell_type": "code",
   "execution_count": 14,
   "metadata": {},
   "outputs": [],
   "source": [
    "# There are a lot of unique drugs"
   ]
  },
  {
   "cell_type": "code",
   "execution_count": 54,
   "metadata": {},
   "outputs": [],
   "source": [
    "# Lets drop ID\n",
    "data.drop(['Unnamed: 0'], axis=1, inplace=True)"
   ]
  },
  {
   "cell_type": "code",
   "execution_count": 15,
   "metadata": {},
   "outputs": [
    {
     "data": {
      "text/plain": [
       "884"
      ]
     },
     "execution_count": 15,
     "metadata": {},
     "output_type": "execute_result"
    }
   ],
   "source": [
    "data['condition'].nunique()"
   ]
  },
  {
   "cell_type": "code",
   "execution_count": 21,
   "metadata": {},
   "outputs": [
    {
     "data": {
      "text/plain": [
       "Birth Control                28788\n",
       "Depression                    9069\n",
       "Pain                          6145\n",
       "Anxiety                       5904\n",
       "Acne                          5588\n",
       "Bipolar Disorde               4224\n",
       "Insomnia                      3673\n",
       "Weight Loss                   3609\n",
       "Obesity                       3568\n",
       "ADHD                          3383\n",
       "Diabetes, Type 2              2554\n",
       "Emergency Contraception       2463\n",
       "High Blood Pressure           2321\n",
       "Vaginal Yeast Infection       2274\n",
       "Abnormal Uterine Bleeding     2096\n",
       "Bowel Preparation             1859\n",
       "ibromyalgia                   1791\n",
       "Smoking Cessation             1780\n",
       "Migraine                      1694\n",
       "Anxiety and Stress            1663\n",
       "Name: condition, dtype: int64"
      ]
     },
     "execution_count": 21,
     "metadata": {},
     "output_type": "execute_result"
    }
   ],
   "source": [
    "data['condition'].value_counts().head(20)"
   ]
  },
  {
   "cell_type": "code",
   "execution_count": 22,
   "metadata": {},
   "outputs": [
    {
     "data": {
      "text/plain": [
       "antifungal (except metronidazole)    4201\n",
       "opiod analgesics                     3945\n",
       "oral hypoglycemics                   3555\n",
       "antibiotic                           3401\n",
       "anti-anxiety                         2645\n",
       "h2 blockers (anti-ulcers)            1228\n",
       "beta blockers                         966\n",
       "corticosteroid (prednisone)           886\n",
       "antipyschotics (phenothiazine)        664\n",
       "arb blocker                           560\n",
       "ace inhibitor                         432\n",
       "calcium channel blocker               233\n",
       "alpha blocker                         153\n",
       "anesthetic                            129\n",
       "antibiotic(penicillins)               119\n",
       "thrombolytics                         116\n",
       "beta blocker                           97\n",
       "neuromuscular blocking agents          45\n",
       "antibiotic (cephalosporins)            29\n",
       "pituitary hormone                      28\n",
       "barbiturate                            19\n",
       "anticoagulants                          9\n",
       "Name: drug_class, dtype: int64"
      ]
     },
     "execution_count": 22,
     "metadata": {},
     "output_type": "execute_result"
    }
   ],
   "source": [
    "data['drug_class'].value_counts()"
   ]
  },
  {
   "cell_type": "code",
   "execution_count": 23,
   "metadata": {},
   "outputs": [
    {
     "data": {
      "text/plain": [
       "positive    101041\n",
       "negative     53303\n",
       "neutral       6953\n",
       "Name: sentiment_label, dtype: int64"
      ]
     },
     "execution_count": 23,
     "metadata": {},
     "output_type": "execute_result"
    }
   ],
   "source": [
    "data['sentiment_label'].value_counts()"
   ]
  },
  {
   "cell_type": "markdown",
   "metadata": {},
   "source": [
    "# Sec 1"
   ]
  },
  {
   "cell_type": "code",
   "execution_count": 55,
   "metadata": {},
   "outputs": [
    {
     "data": {
      "text/html": [
       "<div>\n",
       "<style scoped>\n",
       "    .dataframe tbody tr th:only-of-type {\n",
       "        vertical-align: middle;\n",
       "    }\n",
       "\n",
       "    .dataframe tbody tr th {\n",
       "        vertical-align: top;\n",
       "    }\n",
       "\n",
       "    .dataframe thead th {\n",
       "        text-align: right;\n",
       "    }\n",
       "</style>\n",
       "<table border=\"1\" class=\"dataframe\">\n",
       "  <thead>\n",
       "    <tr style=\"text-align: right;\">\n",
       "      <th></th>\n",
       "      <th>rating</th>\n",
       "      <th>usefulCount</th>\n",
       "      <th>sentiment</th>\n",
       "    </tr>\n",
       "    <tr>\n",
       "      <th>drugName</th>\n",
       "      <th></th>\n",
       "      <th></th>\n",
       "      <th></th>\n",
       "    </tr>\n",
       "  </thead>\n",
       "  <tbody>\n",
       "    <tr>\n",
       "      <th>Tapazole</th>\n",
       "      <td>10.0</td>\n",
       "      <td>155.000000</td>\n",
       "      <td>-0.051186</td>\n",
       "    </tr>\n",
       "    <tr>\n",
       "      <th>Colace</th>\n",
       "      <td>10.0</td>\n",
       "      <td>146.000000</td>\n",
       "      <td>0.050000</td>\n",
       "    </tr>\n",
       "    <tr>\n",
       "      <th>Citrate of Magnesia</th>\n",
       "      <td>10.0</td>\n",
       "      <td>138.500000</td>\n",
       "      <td>0.050000</td>\n",
       "    </tr>\n",
       "    <tr>\n",
       "      <th>Vitamin D2</th>\n",
       "      <td>10.0</td>\n",
       "      <td>122.000000</td>\n",
       "      <td>-0.102976</td>\n",
       "    </tr>\n",
       "    <tr>\n",
       "      <th>Sotalol Hydrochloride AF</th>\n",
       "      <td>10.0</td>\n",
       "      <td>106.666667</td>\n",
       "      <td>0.170355</td>\n",
       "    </tr>\n",
       "    <tr>\n",
       "      <th>Constulose</th>\n",
       "      <td>10.0</td>\n",
       "      <td>103.000000</td>\n",
       "      <td>1.000000</td>\n",
       "    </tr>\n",
       "    <tr>\n",
       "      <th>Dantrium</th>\n",
       "      <td>10.0</td>\n",
       "      <td>98.000000</td>\n",
       "      <td>0.118783</td>\n",
       "    </tr>\n",
       "    <tr>\n",
       "      <th>Pacerone</th>\n",
       "      <td>10.0</td>\n",
       "      <td>91.000000</td>\n",
       "      <td>0.250000</td>\n",
       "    </tr>\n",
       "    <tr>\n",
       "      <th>Norpramin</th>\n",
       "      <td>10.0</td>\n",
       "      <td>89.000000</td>\n",
       "      <td>0.114394</td>\n",
       "    </tr>\n",
       "    <tr>\n",
       "      <th>Tranxene SD</th>\n",
       "      <td>10.0</td>\n",
       "      <td>77.000000</td>\n",
       "      <td>0.288125</td>\n",
       "    </tr>\n",
       "    <tr>\n",
       "      <th>Slo-Niacin</th>\n",
       "      <td>10.0</td>\n",
       "      <td>76.000000</td>\n",
       "      <td>0.100000</td>\n",
       "    </tr>\n",
       "    <tr>\n",
       "      <th>Westhroid</th>\n",
       "      <td>10.0</td>\n",
       "      <td>75.000000</td>\n",
       "      <td>0.147791</td>\n",
       "    </tr>\n",
       "    <tr>\n",
       "      <th>T-Diet</th>\n",
       "      <td>10.0</td>\n",
       "      <td>72.000000</td>\n",
       "      <td>0.033889</td>\n",
       "    </tr>\n",
       "    <tr>\n",
       "      <th>Red yeast rice</th>\n",
       "      <td>10.0</td>\n",
       "      <td>71.500000</td>\n",
       "      <td>0.023333</td>\n",
       "    </tr>\n",
       "    <tr>\n",
       "      <th>Atrovent Nasal</th>\n",
       "      <td>10.0</td>\n",
       "      <td>71.000000</td>\n",
       "      <td>-0.122639</td>\n",
       "    </tr>\n",
       "    <tr>\n",
       "      <th>Peridex</th>\n",
       "      <td>10.0</td>\n",
       "      <td>69.500000</td>\n",
       "      <td>-0.329762</td>\n",
       "    </tr>\n",
       "    <tr>\n",
       "      <th>Fortamet</th>\n",
       "      <td>10.0</td>\n",
       "      <td>69.000000</td>\n",
       "      <td>0.473333</td>\n",
       "    </tr>\n",
       "    <tr>\n",
       "      <th>Generlac</th>\n",
       "      <td>10.0</td>\n",
       "      <td>67.000000</td>\n",
       "      <td>0.033333</td>\n",
       "    </tr>\n",
       "    <tr>\n",
       "      <th>Oxyfast</th>\n",
       "      <td>10.0</td>\n",
       "      <td>66.666667</td>\n",
       "      <td>0.237599</td>\n",
       "    </tr>\n",
       "    <tr>\n",
       "      <th>Urso</th>\n",
       "      <td>10.0</td>\n",
       "      <td>62.500000</td>\n",
       "      <td>0.139286</td>\n",
       "    </tr>\n",
       "    <tr>\n",
       "      <th>Periogard</th>\n",
       "      <td>10.0</td>\n",
       "      <td>61.000000</td>\n",
       "      <td>0.289394</td>\n",
       "    </tr>\n",
       "    <tr>\n",
       "      <th>Asendin</th>\n",
       "      <td>10.0</td>\n",
       "      <td>59.000000</td>\n",
       "      <td>0.183333</td>\n",
       "    </tr>\n",
       "    <tr>\n",
       "      <th>Lac-Hydrin</th>\n",
       "      <td>10.0</td>\n",
       "      <td>58.000000</td>\n",
       "      <td>0.249896</td>\n",
       "    </tr>\n",
       "    <tr>\n",
       "      <th>Dantrolene</th>\n",
       "      <td>10.0</td>\n",
       "      <td>57.500000</td>\n",
       "      <td>0.134392</td>\n",
       "    </tr>\n",
       "    <tr>\n",
       "      <th>Seconal Sodium</th>\n",
       "      <td>10.0</td>\n",
       "      <td>57.000000</td>\n",
       "      <td>0.022607</td>\n",
       "    </tr>\n",
       "    <tr>\n",
       "      <th>Luxiq</th>\n",
       "      <td>10.0</td>\n",
       "      <td>56.000000</td>\n",
       "      <td>0.600000</td>\n",
       "    </tr>\n",
       "    <tr>\n",
       "      <th>Slippery elm</th>\n",
       "      <td>10.0</td>\n",
       "      <td>53.000000</td>\n",
       "      <td>0.405556</td>\n",
       "    </tr>\n",
       "    <tr>\n",
       "      <th>Lonox</th>\n",
       "      <td>10.0</td>\n",
       "      <td>53.000000</td>\n",
       "      <td>-0.107619</td>\n",
       "    </tr>\n",
       "    <tr>\n",
       "      <th>Vivelle</th>\n",
       "      <td>10.0</td>\n",
       "      <td>52.500000</td>\n",
       "      <td>0.124497</td>\n",
       "    </tr>\n",
       "    <tr>\n",
       "      <th>Paregoric</th>\n",
       "      <td>10.0</td>\n",
       "      <td>51.666667</td>\n",
       "      <td>0.045370</td>\n",
       "    </tr>\n",
       "    <tr>\n",
       "      <th>Nizoral Topical</th>\n",
       "      <td>10.0</td>\n",
       "      <td>48.500000</td>\n",
       "      <td>0.210000</td>\n",
       "    </tr>\n",
       "    <tr>\n",
       "      <th>Extina</th>\n",
       "      <td>10.0</td>\n",
       "      <td>47.000000</td>\n",
       "      <td>0.477778</td>\n",
       "    </tr>\n",
       "    <tr>\n",
       "      <th>Lanoxicaps</th>\n",
       "      <td>10.0</td>\n",
       "      <td>46.000000</td>\n",
       "      <td>0.257143</td>\n",
       "    </tr>\n",
       "    <tr>\n",
       "      <th>Novolin N</th>\n",
       "      <td>10.0</td>\n",
       "      <td>46.000000</td>\n",
       "      <td>0.000000</td>\n",
       "    </tr>\n",
       "    <tr>\n",
       "      <th>Alprazolam Intensol</th>\n",
       "      <td>10.0</td>\n",
       "      <td>44.400000</td>\n",
       "      <td>0.213527</td>\n",
       "    </tr>\n",
       "    <tr>\n",
       "      <th>Calan</th>\n",
       "      <td>10.0</td>\n",
       "      <td>44.250000</td>\n",
       "      <td>0.098333</td>\n",
       "    </tr>\n",
       "    <tr>\n",
       "      <th>Ketalar</th>\n",
       "      <td>10.0</td>\n",
       "      <td>44.000000</td>\n",
       "      <td>0.400000</td>\n",
       "    </tr>\n",
       "    <tr>\n",
       "      <th>Malathion</th>\n",
       "      <td>10.0</td>\n",
       "      <td>44.000000</td>\n",
       "      <td>-0.004894</td>\n",
       "    </tr>\n",
       "    <tr>\n",
       "      <th>Zetran</th>\n",
       "      <td>10.0</td>\n",
       "      <td>44.000000</td>\n",
       "      <td>-0.022222</td>\n",
       "    </tr>\n",
       "    <tr>\n",
       "      <th>Dilt-XR</th>\n",
       "      <td>10.0</td>\n",
       "      <td>42.000000</td>\n",
       "      <td>-0.084062</td>\n",
       "    </tr>\n",
       "    <tr>\n",
       "      <th>Herceptin</th>\n",
       "      <td>10.0</td>\n",
       "      <td>41.333333</td>\n",
       "      <td>0.082744</td>\n",
       "    </tr>\n",
       "    <tr>\n",
       "      <th>ClearLax</th>\n",
       "      <td>10.0</td>\n",
       "      <td>40.500000</td>\n",
       "      <td>0.061742</td>\n",
       "    </tr>\n",
       "    <tr>\n",
       "      <th>Lazanda</th>\n",
       "      <td>10.0</td>\n",
       "      <td>40.000000</td>\n",
       "      <td>0.200000</td>\n",
       "    </tr>\n",
       "    <tr>\n",
       "      <th>Tiazac</th>\n",
       "      <td>10.0</td>\n",
       "      <td>40.000000</td>\n",
       "      <td>0.068889</td>\n",
       "    </tr>\n",
       "    <tr>\n",
       "      <th>Diprosone</th>\n",
       "      <td>10.0</td>\n",
       "      <td>40.000000</td>\n",
       "      <td>0.033333</td>\n",
       "    </tr>\n",
       "    <tr>\n",
       "      <th>Zostrix</th>\n",
       "      <td>10.0</td>\n",
       "      <td>39.000000</td>\n",
       "      <td>0.109259</td>\n",
       "    </tr>\n",
       "    <tr>\n",
       "      <th>Eskalith-CR</th>\n",
       "      <td>10.0</td>\n",
       "      <td>37.500000</td>\n",
       "      <td>0.154144</td>\n",
       "    </tr>\n",
       "    <tr>\n",
       "      <th>Ciclodan</th>\n",
       "      <td>10.0</td>\n",
       "      <td>37.000000</td>\n",
       "      <td>0.418750</td>\n",
       "    </tr>\n",
       "    <tr>\n",
       "      <th>Urso Forte</th>\n",
       "      <td>10.0</td>\n",
       "      <td>37.000000</td>\n",
       "      <td>-0.076923</td>\n",
       "    </tr>\n",
       "    <tr>\n",
       "      <th>Neupogen</th>\n",
       "      <td>10.0</td>\n",
       "      <td>36.000000</td>\n",
       "      <td>0.053333</td>\n",
       "    </tr>\n",
       "  </tbody>\n",
       "</table>\n",
       "</div>"
      ],
      "text/plain": [
       "                          rating  usefulCount  sentiment\n",
       "drugName                                                \n",
       "Tapazole                    10.0   155.000000  -0.051186\n",
       "Colace                      10.0   146.000000   0.050000\n",
       "Citrate of Magnesia         10.0   138.500000   0.050000\n",
       "Vitamin D2                  10.0   122.000000  -0.102976\n",
       "Sotalol Hydrochloride AF    10.0   106.666667   0.170355\n",
       "Constulose                  10.0   103.000000   1.000000\n",
       "Dantrium                    10.0    98.000000   0.118783\n",
       "Pacerone                    10.0    91.000000   0.250000\n",
       "Norpramin                   10.0    89.000000   0.114394\n",
       "Tranxene SD                 10.0    77.000000   0.288125\n",
       "Slo-Niacin                  10.0    76.000000   0.100000\n",
       "Westhroid                   10.0    75.000000   0.147791\n",
       "T-Diet                      10.0    72.000000   0.033889\n",
       "Red yeast rice              10.0    71.500000   0.023333\n",
       "Atrovent Nasal              10.0    71.000000  -0.122639\n",
       "Peridex                     10.0    69.500000  -0.329762\n",
       "Fortamet                    10.0    69.000000   0.473333\n",
       "Generlac                    10.0    67.000000   0.033333\n",
       "Oxyfast                     10.0    66.666667   0.237599\n",
       "Urso                        10.0    62.500000   0.139286\n",
       "Periogard                   10.0    61.000000   0.289394\n",
       "Asendin                     10.0    59.000000   0.183333\n",
       "Lac-Hydrin                  10.0    58.000000   0.249896\n",
       "Dantrolene                  10.0    57.500000   0.134392\n",
       "Seconal Sodium              10.0    57.000000   0.022607\n",
       "Luxiq                       10.0    56.000000   0.600000\n",
       "Slippery elm                10.0    53.000000   0.405556\n",
       "Lonox                       10.0    53.000000  -0.107619\n",
       "Vivelle                     10.0    52.500000   0.124497\n",
       "Paregoric                   10.0    51.666667   0.045370\n",
       "Nizoral Topical             10.0    48.500000   0.210000\n",
       "Extina                      10.0    47.000000   0.477778\n",
       "Lanoxicaps                  10.0    46.000000   0.257143\n",
       "Novolin N                   10.0    46.000000   0.000000\n",
       "Alprazolam Intensol         10.0    44.400000   0.213527\n",
       "Calan                       10.0    44.250000   0.098333\n",
       "Ketalar                     10.0    44.000000   0.400000\n",
       "Malathion                   10.0    44.000000  -0.004894\n",
       "Zetran                      10.0    44.000000  -0.022222\n",
       "Dilt-XR                     10.0    42.000000  -0.084062\n",
       "Herceptin                   10.0    41.333333   0.082744\n",
       "ClearLax                    10.0    40.500000   0.061742\n",
       "Lazanda                     10.0    40.000000   0.200000\n",
       "Tiazac                      10.0    40.000000   0.068889\n",
       "Diprosone                   10.0    40.000000   0.033333\n",
       "Zostrix                     10.0    39.000000   0.109259\n",
       "Eskalith-CR                 10.0    37.500000   0.154144\n",
       "Ciclodan                    10.0    37.000000   0.418750\n",
       "Urso Forte                  10.0    37.000000  -0.076923\n",
       "Neupogen                    10.0    36.000000   0.053333"
      ]
     },
     "execution_count": 55,
     "metadata": {},
     "output_type": "execute_result"
    }
   ],
   "source": [
    "# 1. The most popular drug\n",
    "data.groupby(by='drugName',sort=False).mean().sort_values(by=['rating', 'usefulCount','sentiment'], ascending=False).head(50)"
   ]
  },
  {
   "cell_type": "code",
   "execution_count": 46,
   "metadata": {},
   "outputs": [
    {
     "data": {
      "text/plain": [
       "(50989, 10)"
      ]
     },
     "execution_count": 46,
     "metadata": {},
     "output_type": "execute_result"
    }
   ],
   "source": [
    "data[data['rating']==10].shape"
   ]
  },
  {
   "cell_type": "code",
   "execution_count": 58,
   "metadata": {},
   "outputs": [
    {
     "data": {
      "text/plain": [
       "(731, 9)"
      ]
     },
     "execution_count": 58,
     "metadata": {},
     "output_type": "execute_result"
    }
   ],
   "source": [
    "data[data['sentiment']==1].shape"
   ]
  },
  {
   "cell_type": "code",
   "execution_count": 60,
   "metadata": {},
   "outputs": [],
   "source": [
    "# More than 50000 drugs have ratings as 10. But we'll simultaneously see the number of usefulCounts and sentiment\n",
    "# values to make the analysis."
   ]
  },
  {
   "cell_type": "code",
   "execution_count": 59,
   "metadata": {},
   "outputs": [],
   "source": [
    "# There are 731 drugs who has sentiment as +1"
   ]
  },
  {
   "cell_type": "code",
   "execution_count": 47,
   "metadata": {},
   "outputs": [],
   "source": []
  },
  {
   "cell_type": "code",
   "execution_count": 52,
   "metadata": {},
   "outputs": [
    {
     "data": {
      "text/html": [
       "<div>\n",
       "<style scoped>\n",
       "    .dataframe tbody tr th:only-of-type {\n",
       "        vertical-align: middle;\n",
       "    }\n",
       "\n",
       "    .dataframe tbody tr th {\n",
       "        vertical-align: top;\n",
       "    }\n",
       "\n",
       "    .dataframe thead th {\n",
       "        text-align: right;\n",
       "    }\n",
       "</style>\n",
       "<table border=\"1\" class=\"dataframe\">\n",
       "  <thead>\n",
       "    <tr style=\"text-align: right;\">\n",
       "      <th></th>\n",
       "      <th>Unnamed: 0</th>\n",
       "      <th>rating</th>\n",
       "      <th>usefulCount</th>\n",
       "      <th>sentiment</th>\n",
       "    </tr>\n",
       "    <tr>\n",
       "      <th>drugName</th>\n",
       "      <th></th>\n",
       "      <th></th>\n",
       "      <th></th>\n",
       "      <th></th>\n",
       "    </tr>\n",
       "  </thead>\n",
       "  <tbody>\n",
       "    <tr>\n",
       "      <th>Constulose</th>\n",
       "      <td>93590.0</td>\n",
       "      <td>10.0</td>\n",
       "      <td>103.0</td>\n",
       "      <td>1.0</td>\n",
       "    </tr>\n",
       "    <tr>\n",
       "      <th>Cerefolin NAC</th>\n",
       "      <td>22496.0</td>\n",
       "      <td>10.0</td>\n",
       "      <td>25.0</td>\n",
       "      <td>1.0</td>\n",
       "    </tr>\n",
       "    <tr>\n",
       "      <th>Gynazole-1</th>\n",
       "      <td>36959.0</td>\n",
       "      <td>10.0</td>\n",
       "      <td>13.0</td>\n",
       "      <td>1.0</td>\n",
       "    </tr>\n",
       "    <tr>\n",
       "      <th>Zymine</th>\n",
       "      <td>187575.0</td>\n",
       "      <td>10.0</td>\n",
       "      <td>11.0</td>\n",
       "      <td>1.0</td>\n",
       "    </tr>\n",
       "    <tr>\n",
       "      <th>Triprolidine</th>\n",
       "      <td>148323.0</td>\n",
       "      <td>10.0</td>\n",
       "      <td>11.0</td>\n",
       "      <td>1.0</td>\n",
       "    </tr>\n",
       "    <tr>\n",
       "      <th>Naftin</th>\n",
       "      <td>223482.0</td>\n",
       "      <td>10.0</td>\n",
       "      <td>11.0</td>\n",
       "      <td>1.0</td>\n",
       "    </tr>\n",
       "    <tr>\n",
       "      <th>Hylira</th>\n",
       "      <td>180091.0</td>\n",
       "      <td>10.0</td>\n",
       "      <td>9.0</td>\n",
       "      <td>1.0</td>\n",
       "    </tr>\n",
       "    <tr>\n",
       "      <th>Potassium iodide</th>\n",
       "      <td>134005.0</td>\n",
       "      <td>10.0</td>\n",
       "      <td>6.0</td>\n",
       "      <td>1.0</td>\n",
       "    </tr>\n",
       "    <tr>\n",
       "      <th>Pima</th>\n",
       "      <td>168012.0</td>\n",
       "      <td>10.0</td>\n",
       "      <td>6.0</td>\n",
       "      <td>1.0</td>\n",
       "    </tr>\n",
       "    <tr>\n",
       "      <th>BC Fast Pain Relief</th>\n",
       "      <td>57198.0</td>\n",
       "      <td>10.0</td>\n",
       "      <td>5.0</td>\n",
       "      <td>1.0</td>\n",
       "    </tr>\n",
       "  </tbody>\n",
       "</table>\n",
       "</div>"
      ],
      "text/plain": [
       "                     Unnamed: 0  rating  usefulCount  sentiment\n",
       "drugName                                                       \n",
       "Constulose              93590.0    10.0        103.0        1.0\n",
       "Cerefolin NAC           22496.0    10.0         25.0        1.0\n",
       "Gynazole-1              36959.0    10.0         13.0        1.0\n",
       "Zymine                 187575.0    10.0         11.0        1.0\n",
       "Triprolidine           148323.0    10.0         11.0        1.0\n",
       "Naftin                 223482.0    10.0         11.0        1.0\n",
       "Hylira                 180091.0    10.0          9.0        1.0\n",
       "Potassium iodide       134005.0    10.0          6.0        1.0\n",
       "Pima                   168012.0    10.0          6.0        1.0\n",
       "BC Fast Pain Relief     57198.0    10.0          5.0        1.0"
      ]
     },
     "execution_count": 52,
     "metadata": {},
     "output_type": "execute_result"
    }
   ],
   "source": [
    "# 1. The most popular drug\n",
    "data.groupby(by='drugName',sort=False).mean().sort_values(by=['sentiment', 'rating', 'usefulCount'], ascending=False).head(10)"
   ]
  },
  {
   "cell_type": "code",
   "execution_count": 56,
   "metadata": {},
   "outputs": [
    {
     "data": {
      "text/html": [
       "<div>\n",
       "<style scoped>\n",
       "    .dataframe tbody tr th:only-of-type {\n",
       "        vertical-align: middle;\n",
       "    }\n",
       "\n",
       "    .dataframe tbody tr th {\n",
       "        vertical-align: top;\n",
       "    }\n",
       "\n",
       "    .dataframe thead th {\n",
       "        text-align: right;\n",
       "    }\n",
       "</style>\n",
       "<table border=\"1\" class=\"dataframe\">\n",
       "  <thead>\n",
       "    <tr style=\"text-align: right;\">\n",
       "      <th></th>\n",
       "      <th>rating</th>\n",
       "      <th>usefulCount</th>\n",
       "      <th>sentiment</th>\n",
       "    </tr>\n",
       "    <tr>\n",
       "      <th>drugName</th>\n",
       "      <th></th>\n",
       "      <th></th>\n",
       "      <th></th>\n",
       "    </tr>\n",
       "  </thead>\n",
       "  <tbody>\n",
       "    <tr>\n",
       "      <th>Constulose</th>\n",
       "      <td>10.0</td>\n",
       "      <td>103.0</td>\n",
       "      <td>1.0</td>\n",
       "    </tr>\n",
       "    <tr>\n",
       "      <th>Tylenol Arthritis Pain</th>\n",
       "      <td>9.0</td>\n",
       "      <td>26.0</td>\n",
       "      <td>1.0</td>\n",
       "    </tr>\n",
       "    <tr>\n",
       "      <th>Cerefolin NAC</th>\n",
       "      <td>10.0</td>\n",
       "      <td>25.0</td>\n",
       "      <td>1.0</td>\n",
       "    </tr>\n",
       "    <tr>\n",
       "      <th>Gynazole-1</th>\n",
       "      <td>10.0</td>\n",
       "      <td>13.0</td>\n",
       "      <td>1.0</td>\n",
       "    </tr>\n",
       "    <tr>\n",
       "      <th>Zymine</th>\n",
       "      <td>10.0</td>\n",
       "      <td>11.0</td>\n",
       "      <td>1.0</td>\n",
       "    </tr>\n",
       "    <tr>\n",
       "      <th>Triprolidine</th>\n",
       "      <td>10.0</td>\n",
       "      <td>11.0</td>\n",
       "      <td>1.0</td>\n",
       "    </tr>\n",
       "    <tr>\n",
       "      <th>Naftin</th>\n",
       "      <td>10.0</td>\n",
       "      <td>11.0</td>\n",
       "      <td>1.0</td>\n",
       "    </tr>\n",
       "    <tr>\n",
       "      <th>Hylira</th>\n",
       "      <td>10.0</td>\n",
       "      <td>9.0</td>\n",
       "      <td>1.0</td>\n",
       "    </tr>\n",
       "    <tr>\n",
       "      <th>Potassium iodide</th>\n",
       "      <td>10.0</td>\n",
       "      <td>6.0</td>\n",
       "      <td>1.0</td>\n",
       "    </tr>\n",
       "    <tr>\n",
       "      <th>Pima</th>\n",
       "      <td>10.0</td>\n",
       "      <td>6.0</td>\n",
       "      <td>1.0</td>\n",
       "    </tr>\n",
       "  </tbody>\n",
       "</table>\n",
       "</div>"
      ],
      "text/plain": [
       "                        rating  usefulCount  sentiment\n",
       "drugName                                              \n",
       "Constulose                10.0        103.0        1.0\n",
       "Tylenol Arthritis Pain     9.0         26.0        1.0\n",
       "Cerefolin NAC             10.0         25.0        1.0\n",
       "Gynazole-1                10.0         13.0        1.0\n",
       "Zymine                    10.0         11.0        1.0\n",
       "Triprolidine              10.0         11.0        1.0\n",
       "Naftin                    10.0         11.0        1.0\n",
       "Hylira                    10.0          9.0        1.0\n",
       "Potassium iodide          10.0          6.0        1.0\n",
       "Pima                      10.0          6.0        1.0"
      ]
     },
     "execution_count": 56,
     "metadata": {},
     "output_type": "execute_result"
    }
   ],
   "source": [
    "# 1. The most popular drug\n",
    "data.groupby(by='drugName',sort=False).mean().sort_values(by=['sentiment', 'usefulCount', 'rating'], ascending=False).head(10)"
   ]
  },
  {
   "cell_type": "code",
   "execution_count": 57,
   "metadata": {},
   "outputs": [],
   "source": [
    "# Based on the mean values of Rating, sentiment and usefulCount, we can conclude that Constulose is the most popular drug"
   ]
  },
  {
   "cell_type": "code",
   "execution_count": 62,
   "metadata": {},
   "outputs": [
    {
     "name": "stdout",
     "output_type": "stream",
     "text": [
      "22\n",
      "3436\n"
     ]
    }
   ],
   "source": [
    "# 2. The groups of Drugs used\n",
    "print(data['drug_class'].nunique())\n",
    "print(data['drugName'].nunique())"
   ]
  },
  {
   "cell_type": "code",
   "execution_count": 63,
   "metadata": {},
   "outputs": [],
   "source": [
    "# There are 22 unique groups of drugs used and there are 3436 unique drugs in the dataset"
   ]
  },
  {
   "cell_type": "code",
   "execution_count": 65,
   "metadata": {},
   "outputs": [
    {
     "data": {
      "text/plain": [
       "(50989, 9)"
      ]
     },
     "execution_count": 65,
     "metadata": {},
     "output_type": "execute_result"
    }
   ],
   "source": [
    "# 3. Drug with best review\n",
    "# Maximum value for rating is 10\n",
    "data[data['rating']==10].shape"
   ]
  },
  {
   "cell_type": "code",
   "execution_count": 66,
   "metadata": {},
   "outputs": [],
   "source": [
    "# There are 50000+ records with 10 rating."
   ]
  },
  {
   "cell_type": "code",
   "execution_count": 73,
   "metadata": {},
   "outputs": [
    {
     "data": {
      "text/plain": [
       "2698"
      ]
     },
     "execution_count": 73,
     "metadata": {},
     "output_type": "execute_result"
    }
   ],
   "source": [
    "data[data['rating']==10]['drugName'].nunique()"
   ]
  },
  {
   "cell_type": "code",
   "execution_count": null,
   "metadata": {},
   "outputs": [],
   "source": [
    "# There are 2698 drugs which have perfect 10 rating given by users"
   ]
  },
  {
   "cell_type": "code",
   "execution_count": 67,
   "metadata": {},
   "outputs": [
    {
     "data": {
      "text/plain": [
       "(731, 9)"
      ]
     },
     "execution_count": 67,
     "metadata": {},
     "output_type": "execute_result"
    }
   ],
   "source": [
    "# Also, to conclude the best review, we can see the perfect positive sentiments\n",
    "\n",
    "data[data['sentiment']==1].shape"
   ]
  },
  {
   "cell_type": "code",
   "execution_count": 71,
   "metadata": {},
   "outputs": [
    {
     "data": {
      "text/plain": [
       "456"
      ]
     },
     "execution_count": 71,
     "metadata": {},
     "output_type": "execute_result"
    }
   ],
   "source": [
    "# Now, lets look at the name of the drugs having perfect positive sentiment\n",
    "data[data['sentiment']==1]['drugName'].nunique()"
   ]
  },
  {
   "cell_type": "code",
   "execution_count": 72,
   "metadata": {},
   "outputs": [],
   "source": [
    "# There are 456 drugs which have perfect positive sentiments given by users"
   ]
  },
  {
   "cell_type": "code",
   "execution_count": 74,
   "metadata": {},
   "outputs": [],
   "source": [
    "# We can not conclude a single drug to be having the best reviews"
   ]
  },
  {
   "cell_type": "code",
   "execution_count": 75,
   "metadata": {},
   "outputs": [],
   "source": [
    "# In other words, we can also say that most popular drug is the one that has maximum ratings, sentiment with most\n",
    "# number of useful reviews. So, in a way this is same as Question 1\n",
    "# Hence, we can say that Constulose is the drug having best reviews"
   ]
  },
  {
   "cell_type": "code",
   "execution_count": 76,
   "metadata": {},
   "outputs": [
    {
     "data": {
      "text/plain": [
       "3436"
      ]
     },
     "execution_count": 76,
     "metadata": {},
     "output_type": "execute_result"
    }
   ],
   "source": [
    "# 4. Number of drugs\n",
    "# We have 3436 drugs\n",
    "data['drugName'].nunique()"
   ]
  },
  {
   "cell_type": "code",
   "execution_count": 77,
   "metadata": {},
   "outputs": [
    {
     "data": {
      "text/plain": [
       "884"
      ]
     },
     "execution_count": 77,
     "metadata": {},
     "output_type": "execute_result"
    }
   ],
   "source": [
    "# 5. Number of drugs per condition\n",
    "# First, the number of conditions we have is\n",
    "data['condition'].nunique()"
   ]
  },
  {
   "cell_type": "code",
   "execution_count": 79,
   "metadata": {},
   "outputs": [],
   "source": [
    "unique_condition=data['condition'].unique()"
   ]
  },
  {
   "cell_type": "code",
   "execution_count": 81,
   "metadata": {},
   "outputs": [
    {
     "data": {
      "text/plain": [
       "78"
      ]
     },
     "execution_count": 81,
     "metadata": {},
     "output_type": "execute_result"
    }
   ],
   "source": [
    "data[data['condition']=='Anxiety']['drugName'].nunique()"
   ]
  },
  {
   "cell_type": "code",
   "execution_count": 82,
   "metadata": {},
   "outputs": [],
   "source": [
    "# From above code, we can say that there are 78 unique drugs for anxiety"
   ]
  },
  {
   "cell_type": "code",
   "execution_count": 83,
   "metadata": {},
   "outputs": [
    {
     "name": "stdout",
     "output_type": "stream",
     "text": [
      "Left Ventricular Dysfunction   8\n",
      "ADHD   55\n",
      "Birth Control   172\n",
      "Opiate Dependence   9\n",
      "Benign Prostatic Hyperplasia   22\n",
      "Emergency Contraception   12\n",
      "Bipolar Disorde   80\n",
      "Epilepsy   31\n",
      "Migraine Prevention   50\n",
      "Depression   105\n"
     ]
    }
   ],
   "source": [
    "# Now, we can construct a for loop to find number of unique drugs for each condition\n",
    "\n",
    "for i in unique_condition[:10]:\n",
    "    print(i, ' ', data[data['condition']==i]['drugName'].nunique())"
   ]
  },
  {
   "cell_type": "code",
   "execution_count": 84,
   "metadata": {},
   "outputs": [],
   "source": [
    "# To prevent a very long output, we have run the loop for 10 conditions only. \n",
    "# Please remove the [:10] from line 1 of the code to execute it for all 884 conditions."
   ]
  },
  {
   "cell_type": "code",
   "execution_count": 89,
   "metadata": {},
   "outputs": [
    {
     "name": "stdout",
     "output_type": "stream",
     "text": [
      "Valsartan   69\n",
      "Guanfacine   127\n",
      "Lybrel   10\n",
      "Ortho Evra   219\n",
      "Buprenorphine / naloxone   437\n",
      "Cialis   279\n",
      "Levonorgestrel   3657\n",
      "Aripiprazole   500\n",
      "Keppra   117\n",
      "Ethinyl estradiol / levonorgestrel   1888\n"
     ]
    }
   ],
   "source": [
    "# 6. Number of patients that searched on particular drug\n",
    "# This is similar to the number of patients who gave ratings or reviews on each drug\n",
    "\n",
    "# We have to find number of unique reviews of each drug, because one user who searched for the drug\n",
    "# gave exactly one review to it\n",
    "\n",
    "unique_drugs=data['drugName'].unique()\n",
    "\n",
    "# Now, we can construct a for loop\n",
    "\n",
    "for i in unique_drugs[:10]:\n",
    "    print(i, ' ', data[data['drugName']==i].shape[0])\n",
    "    \n",
    "    \n",
    "# To prevent a very long output, we have run the loop for 10 drugs only. \n",
    "# Please remove the [:10] from line 1 of the code to execute it for all 3436 drugs."
   ]
  },
  {
   "cell_type": "code",
   "execution_count": 171,
   "metadata": {
    "scrolled": true
   },
   "outputs": [
    {
     "data": {
      "text/plain": [
       "Levonorgestrel                        3657\n",
       "Etonogestrel                          3336\n",
       "Ethinyl estradiol / norethindrone     2850\n",
       "Nexplanon                             2156\n",
       "Ethinyl estradiol / norgestimate      2117\n",
       "Ethinyl estradiol / levonorgestrel    1888\n",
       "Phentermine                           1543\n",
       "Sertraline                            1360\n",
       "Escitalopram                          1292\n",
       "Mirena                                1242\n",
       "Name: drugName, dtype: int64"
      ]
     },
     "execution_count": 171,
     "metadata": {},
     "output_type": "execute_result"
    }
   ],
   "source": [
    "data['drugName'].value_counts().head(10)"
   ]
  },
  {
   "cell_type": "code",
   "execution_count": 90,
   "metadata": {},
   "outputs": [],
   "source": [
    "# 7. How genuine is the review\n",
    "# We can check how genuine is the review using sentiment analysis and number of useful reviews along with over all\n",
    "# rating given"
   ]
  },
  {
   "cell_type": "code",
   "execution_count": 92,
   "metadata": {},
   "outputs": [
    {
     "data": {
      "text/plain": [
       "positive    101041\n",
       "negative     53303\n",
       "neutral       6953\n",
       "Name: sentiment_label, dtype: int64"
      ]
     },
     "execution_count": 92,
     "metadata": {},
     "output_type": "execute_result"
    }
   ],
   "source": [
    "# 8. Distribution of sentiments\n",
    "\n",
    "data['sentiment_label'].value_counts()"
   ]
  },
  {
   "cell_type": "code",
   "execution_count": 93,
   "metadata": {},
   "outputs": [],
   "source": [
    "# Most of the sentiments are positive"
   ]
  },
  {
   "cell_type": "code",
   "execution_count": 97,
   "metadata": {},
   "outputs": [
    {
     "data": {
      "text/plain": [
       "<AxesSubplot:>"
      ]
     },
     "execution_count": 97,
     "metadata": {},
     "output_type": "execute_result"
    },
    {
     "data": {
      "image/png": "[encoded data removed]",
      "text/plain": [
       "<Figure size 432x288 with 2 Axes>"
      ]
     },
     "metadata": {
      "needs_background": "light"
     },
     "output_type": "display_data"
    }
   ],
   "source": [
    "# 9. correlation between rating, review and usefulCounts\n",
    "\n",
    "data_corr = data[['rating', 'sentiment', 'usefulCount']]\n",
    "\n",
    "corr=data_corr.corr()\n",
    "sns.heatmap(corr, annot=True, cmap='coolwarm')"
   ]
  },
  {
   "cell_type": "code",
   "execution_count": 98,
   "metadata": {},
   "outputs": [],
   "source": [
    "# 10. Yes, we can predict rating given review.\n",
    "# We can pose it as a supervised Machine Learning problem by taking reviews, sentiment and usefulCount as \n",
    "# features and rating as target. We have a lot of labelled data available and we can divide the data into\n",
    "# train, validation and test."
   ]
  },
  {
   "cell_type": "code",
   "execution_count": 99,
   "metadata": {},
   "outputs": [
    {
     "data": {
      "text/plain": [
       "count    161297.000000\n",
       "mean          6.994377\n",
       "std           3.272329\n",
       "min           1.000000\n",
       "25%           5.000000\n",
       "50%           8.000000\n",
       "75%          10.000000\n",
       "max          10.000000\n",
       "Name: rating, dtype: float64"
      ]
     },
     "execution_count": 99,
     "metadata": {},
     "output_type": "execute_result"
    }
   ],
   "source": [
    "# 11. Distribution of Rating\n",
    "data['rating'].describe()"
   ]
  },
  {
   "cell_type": "code",
   "execution_count": 100,
   "metadata": {},
   "outputs": [],
   "source": [
    "# We can observe the min, max, mean, std deviation and quantiles of the rating."
   ]
  },
  {
   "cell_type": "code",
   "execution_count": 159,
   "metadata": {},
   "outputs": [],
   "source": [
    "# 12. Amount of reviews made per year and per month\n",
    "# For this, we'll have to parse the month and year out of the date column\n",
    "\n",
    "def month(x):\n",
    "    mon=x.split(' ')[0]\n",
    "    return mon\n",
    "\n",
    "def year(x):\n",
    "    year=x.split(' ')[-1]\n",
    "    return year  \n",
    "\n",
    "data['month']=data['date'].apply(month)\n",
    "data['year']=data['date'].apply(year)"
   ]
  },
  {
   "cell_type": "code",
   "execution_count": 160,
   "metadata": {},
   "outputs": [
    {
     "data": {
      "text/html": [
       "<div>\n",
       "<style scoped>\n",
       "    .dataframe tbody tr th:only-of-type {\n",
       "        vertical-align: middle;\n",
       "    }\n",
       "\n",
       "    .dataframe tbody tr th {\n",
       "        vertical-align: top;\n",
       "    }\n",
       "\n",
       "    .dataframe thead th {\n",
       "        text-align: right;\n",
       "    }\n",
       "</style>\n",
       "<table border=\"1\" class=\"dataframe\">\n",
       "  <thead>\n",
       "    <tr style=\"text-align: right;\">\n",
       "      <th></th>\n",
       "      <th>drugName</th>\n",
       "      <th>condition</th>\n",
       "      <th>review</th>\n",
       "      <th>rating</th>\n",
       "      <th>date</th>\n",
       "      <th>usefulCount</th>\n",
       "      <th>drug_class</th>\n",
       "      <th>sentiment</th>\n",
       "      <th>sentiment_label</th>\n",
       "      <th>month</th>\n",
       "      <th>year</th>\n",
       "    </tr>\n",
       "  </thead>\n",
       "  <tbody>\n",
       "    <tr>\n",
       "      <th>0</th>\n",
       "      <td>Valsartan</td>\n",
       "      <td>Left Ventricular Dysfunction</td>\n",
       "      <td>\"It has no side effect, I take it in combinati...</td>\n",
       "      <td>9.0</td>\n",
       "      <td>May 20, 2012</td>\n",
       "      <td>27</td>\n",
       "      <td>arb blocker</td>\n",
       "      <td>0.000000</td>\n",
       "      <td>neutral</td>\n",
       "      <td>May</td>\n",
       "      <td>2012</td>\n",
       "    </tr>\n",
       "    <tr>\n",
       "      <th>1</th>\n",
       "      <td>Guanfacine</td>\n",
       "      <td>ADHD</td>\n",
       "      <td>\"My son is halfway through his fourth week of ...</td>\n",
       "      <td>8.0</td>\n",
       "      <td>April 27, 2010</td>\n",
       "      <td>192</td>\n",
       "      <td>NaN</td>\n",
       "      <td>0.168333</td>\n",
       "      <td>positive</td>\n",
       "      <td>April</td>\n",
       "      <td>2010</td>\n",
       "    </tr>\n",
       "    <tr>\n",
       "      <th>2</th>\n",
       "      <td>Lybrel</td>\n",
       "      <td>Birth Control</td>\n",
       "      <td>\"I used to take another oral contraceptive, wh...</td>\n",
       "      <td>5.0</td>\n",
       "      <td>December 14, 2009</td>\n",
       "      <td>17</td>\n",
       "      <td>NaN</td>\n",
       "      <td>0.067210</td>\n",
       "      <td>positive</td>\n",
       "      <td>December</td>\n",
       "      <td>2009</td>\n",
       "    </tr>\n",
       "    <tr>\n",
       "      <th>3</th>\n",
       "      <td>Ortho Evra</td>\n",
       "      <td>Birth Control</td>\n",
       "      <td>\"This is my first time using any form of birth...</td>\n",
       "      <td>8.0</td>\n",
       "      <td>November 3, 2015</td>\n",
       "      <td>10</td>\n",
       "      <td>NaN</td>\n",
       "      <td>0.179545</td>\n",
       "      <td>positive</td>\n",
       "      <td>November</td>\n",
       "      <td>2015</td>\n",
       "    </tr>\n",
       "    <tr>\n",
       "      <th>4</th>\n",
       "      <td>Buprenorphine / naloxone</td>\n",
       "      <td>Opiate Dependence</td>\n",
       "      <td>\"Suboxone has completely turned my life around...</td>\n",
       "      <td>9.0</td>\n",
       "      <td>November 27, 2016</td>\n",
       "      <td>37</td>\n",
       "      <td>NaN</td>\n",
       "      <td>0.194444</td>\n",
       "      <td>positive</td>\n",
       "      <td>November</td>\n",
       "      <td>2016</td>\n",
       "    </tr>\n",
       "  </tbody>\n",
       "</table>\n",
       "</div>"
      ],
      "text/plain": [
       "                   drugName                     condition  \\\n",
       "0                 Valsartan  Left Ventricular Dysfunction   \n",
       "1                Guanfacine                          ADHD   \n",
       "2                    Lybrel                 Birth Control   \n",
       "3                Ortho Evra                 Birth Control   \n",
       "4  Buprenorphine / naloxone             Opiate Dependence   \n",
       "\n",
       "                                              review  rating  \\\n",
       "0  \"It has no side effect, I take it in combinati...     9.0   \n",
       "1  \"My son is halfway through his fourth week of ...     8.0   \n",
       "2  \"I used to take another oral contraceptive, wh...     5.0   \n",
       "3  \"This is my first time using any form of birth...     8.0   \n",
       "4  \"Suboxone has completely turned my life around...     9.0   \n",
       "\n",
       "                date  usefulCount   drug_class  sentiment sentiment_label  \\\n",
       "0       May 20, 2012           27  arb blocker   0.000000         neutral   \n",
       "1     April 27, 2010          192          NaN   0.168333        positive   \n",
       "2  December 14, 2009           17          NaN   0.067210        positive   \n",
       "3   November 3, 2015           10          NaN   0.179545        positive   \n",
       "4  November 27, 2016           37          NaN   0.194444        positive   \n",
       "\n",
       "      month  year  \n",
       "0       May  2012  \n",
       "1     April  2010  \n",
       "2  December  2009  \n",
       "3  November  2015  \n",
       "4  November  2016  "
      ]
     },
     "execution_count": 160,
     "metadata": {},
     "output_type": "execute_result"
    }
   ],
   "source": [
    "data.head()"
   ]
  },
  {
   "cell_type": "code",
   "execution_count": 161,
   "metadata": {},
   "outputs": [],
   "source": [
    "# Now, we'll see the number of reviews per month and per year"
   ]
  },
  {
   "cell_type": "code",
   "execution_count": 164,
   "metadata": {},
   "outputs": [
    {
     "data": {
      "text/plain": [
       "August       14554\n",
       "October      14038\n",
       "March        13956\n",
       "November     13875\n",
       "July         13852\n",
       "April        13736\n",
       "January      13657\n",
       "September    13475\n",
       "May          13345\n",
       "June         12749\n",
       "February     12041\n",
       "December     12019\n",
       "Name: month, dtype: int64"
      ]
     },
     "execution_count": 164,
     "metadata": {},
     "output_type": "execute_result"
    }
   ],
   "source": [
    "data['month'].value_counts()"
   ]
  },
  {
   "cell_type": "code",
   "execution_count": 167,
   "metadata": {},
   "outputs": [
    {
     "data": {
      "text/plain": [
       "<AxesSubplot:>"
      ]
     },
     "execution_count": 167,
     "metadata": {},
     "output_type": "execute_result"
    },
    {
     "data": {
      "image/png": "[encoded data removed]",
      "text/plain": [
       "<Figure size 432x288 with 1 Axes>"
      ]
     },
     "metadata": {
      "needs_background": "light"
     },
     "output_type": "display_data"
    }
   ],
   "source": [
    "data['month'].value_counts().plot.bar()"
   ]
  },
  {
   "cell_type": "code",
   "execution_count": 165,
   "metadata": {},
   "outputs": [
    {
     "data": {
      "text/plain": [
       "2016    34842\n",
       "2017    28087\n",
       "2015    27164\n",
       "2013    12278\n",
       "2014    12051\n",
       "2011    11682\n",
       "2009    11636\n",
       "2012    10007\n",
       "2010     8413\n",
       "2008     5137\n",
       "Name: year, dtype: int64"
      ]
     },
     "execution_count": 165,
     "metadata": {},
     "output_type": "execute_result"
    }
   ],
   "source": [
    "data['year'].value_counts()"
   ]
  },
  {
   "cell_type": "code",
   "execution_count": 168,
   "metadata": {},
   "outputs": [
    {
     "data": {
      "text/plain": [
       "<AxesSubplot:>"
      ]
     },
     "execution_count": 168,
     "metadata": {},
     "output_type": "execute_result"
    },
    {
     "data": {
      "image/png": "[encoded data removed]",
      "text/plain": [
       "<Figure size 432x288 with 1 Axes>"
      ]
     },
     "metadata": {
      "needs_background": "light"
     },
     "output_type": "display_data"
    }
   ],
   "source": [
    "data['year'].value_counts().plot.bar()"
   ]
  },
  {
   "cell_type": "code",
   "execution_count": 125,
   "metadata": {},
   "outputs": [],
   "source": [
    "# 13. Condition with most reviews\n",
    "\n",
    "num_reviews=data.groupby(by='condition',sort=False).count()"
   ]
  },
  {
   "cell_type": "code",
   "execution_count": 127,
   "metadata": {},
   "outputs": [
    {
     "data": {
      "text/html": [
       "<div>\n",
       "<style scoped>\n",
       "    .dataframe tbody tr th:only-of-type {\n",
       "        vertical-align: middle;\n",
       "    }\n",
       "\n",
       "    .dataframe tbody tr th {\n",
       "        vertical-align: top;\n",
       "    }\n",
       "\n",
       "    .dataframe thead th {\n",
       "        text-align: right;\n",
       "    }\n",
       "</style>\n",
       "<table border=\"1\" class=\"dataframe\">\n",
       "  <thead>\n",
       "    <tr style=\"text-align: right;\">\n",
       "      <th></th>\n",
       "      <th>drugName</th>\n",
       "      <th>review</th>\n",
       "      <th>rating</th>\n",
       "      <th>date</th>\n",
       "      <th>usefulCount</th>\n",
       "      <th>drug_class</th>\n",
       "      <th>sentiment</th>\n",
       "      <th>sentiment_label</th>\n",
       "    </tr>\n",
       "    <tr>\n",
       "      <th>condition</th>\n",
       "      <th></th>\n",
       "      <th></th>\n",
       "      <th></th>\n",
       "      <th></th>\n",
       "      <th></th>\n",
       "      <th></th>\n",
       "      <th></th>\n",
       "      <th></th>\n",
       "    </tr>\n",
       "  </thead>\n",
       "  <tbody>\n",
       "    <tr>\n",
       "      <th>Left Ventricular Dysfunction</th>\n",
       "      <td>19</td>\n",
       "      <td>19</td>\n",
       "      <td>19</td>\n",
       "      <td>19</td>\n",
       "      <td>19</td>\n",
       "      <td>13</td>\n",
       "      <td>19</td>\n",
       "      <td>19</td>\n",
       "    </tr>\n",
       "    <tr>\n",
       "      <th>ADHD</th>\n",
       "      <td>3383</td>\n",
       "      <td>3383</td>\n",
       "      <td>3383</td>\n",
       "      <td>3383</td>\n",
       "      <td>3383</td>\n",
       "      <td>27</td>\n",
       "      <td>3383</td>\n",
       "      <td>3383</td>\n",
       "    </tr>\n",
       "    <tr>\n",
       "      <th>Birth Control</th>\n",
       "      <td>28788</td>\n",
       "      <td>28788</td>\n",
       "      <td>28788</td>\n",
       "      <td>28788</td>\n",
       "      <td>28788</td>\n",
       "      <td>0</td>\n",
       "      <td>28788</td>\n",
       "      <td>28788</td>\n",
       "    </tr>\n",
       "    <tr>\n",
       "      <th>Opiate Dependence</th>\n",
       "      <td>1079</td>\n",
       "      <td>1079</td>\n",
       "      <td>1079</td>\n",
       "      <td>1079</td>\n",
       "      <td>1079</td>\n",
       "      <td>0</td>\n",
       "      <td>1079</td>\n",
       "      <td>1079</td>\n",
       "    </tr>\n",
       "    <tr>\n",
       "      <th>Benign Prostatic Hyperplasia</th>\n",
       "      <td>561</td>\n",
       "      <td>561</td>\n",
       "      <td>561</td>\n",
       "      <td>561</td>\n",
       "      <td>561</td>\n",
       "      <td>108</td>\n",
       "      <td>561</td>\n",
       "      <td>561</td>\n",
       "    </tr>\n",
       "  </tbody>\n",
       "</table>\n",
       "</div>"
      ],
      "text/plain": [
       "                              drugName  review  rating   date  usefulCount  \\\n",
       "condition                                                                    \n",
       "Left Ventricular Dysfunction        19      19      19     19           19   \n",
       "ADHD                              3383    3383    3383   3383         3383   \n",
       "Birth Control                    28788   28788   28788  28788        28788   \n",
       "Opiate Dependence                 1079    1079    1079   1079         1079   \n",
       "Benign Prostatic Hyperplasia       561     561     561    561          561   \n",
       "\n",
       "                              drug_class  sentiment  sentiment_label  \n",
       "condition                                                             \n",
       "Left Ventricular Dysfunction          13         19               19  \n",
       "ADHD                                  27       3383             3383  \n",
       "Birth Control                          0      28788            28788  \n",
       "Opiate Dependence                      0       1079             1079  \n",
       "Benign Prostatic Hyperplasia         108        561              561  "
      ]
     },
     "execution_count": 127,
     "metadata": {},
     "output_type": "execute_result"
    }
   ],
   "source": [
    "num_reviews.head()"
   ]
  },
  {
   "cell_type": "code",
   "execution_count": 133,
   "metadata": {},
   "outputs": [
    {
     "data": {
      "text/plain": [
       "drugName           28788\n",
       "review             28788\n",
       "rating             28788\n",
       "date               28788\n",
       "usefulCount        28788\n",
       "drug_class          1935\n",
       "sentiment          28788\n",
       "sentiment_label    28788\n",
       "dtype: int64"
      ]
     },
     "execution_count": 133,
     "metadata": {},
     "output_type": "execute_result"
    }
   ],
   "source": [
    "num_reviews.max()"
   ]
  },
  {
   "cell_type": "code",
   "execution_count": 132,
   "metadata": {},
   "outputs": [
    {
     "data": {
      "text/plain": [
       "Index(['Birth Control'], dtype='object', name='condition')"
      ]
     },
     "execution_count": 132,
     "metadata": {},
     "output_type": "execute_result"
    }
   ],
   "source": [
    "num_reviews[num_reviews['drugName']==28788].index"
   ]
  },
  {
   "cell_type": "code",
   "execution_count": 135,
   "metadata": {},
   "outputs": [
    {
     "data": {
      "text/plain": [
       "28788"
      ]
     },
     "execution_count": 135,
     "metadata": {},
     "output_type": "execute_result"
    }
   ],
   "source": [
    "# We can verify it\n",
    "data[data['condition']=='Birth Control'].shape[0]"
   ]
  },
  {
   "cell_type": "code",
   "execution_count": 136,
   "metadata": {},
   "outputs": [],
   "source": [
    "# So, max number of reviews are corresponding to the condition Birth Control"
   ]
  },
  {
   "cell_type": "code",
   "execution_count": 163,
   "metadata": {},
   "outputs": [
    {
     "data": {
      "text/plain": [
       "Index(['Birth Control'], dtype='object')"
      ]
     },
     "execution_count": 163,
     "metadata": {},
     "output_type": "execute_result"
    }
   ],
   "source": [
    "# Second method\n",
    "\n",
    "data['condition'].value_counts().head(1).index"
   ]
  },
  {
   "cell_type": "markdown",
   "metadata": {},
   "source": [
    "# Section 2"
   ]
  },
  {
   "cell_type": "code",
   "execution_count": 172,
   "metadata": {},
   "outputs": [],
   "source": [
    "# 1. Similar to Q4 sec 1"
   ]
  },
  {
   "cell_type": "code",
   "execution_count": 173,
   "metadata": {},
   "outputs": [],
   "source": [
    "# 2. Similar to Q1 sec 1"
   ]
  },
  {
   "cell_type": "code",
   "execution_count": 174,
   "metadata": {},
   "outputs": [],
   "source": [
    "# 3. Similar to Q2 sec 1"
   ]
  },
  {
   "cell_type": "code",
   "execution_count": 175,
   "metadata": {},
   "outputs": [],
   "source": [
    "# 4. Similar to Q3 sec 1"
   ]
  },
  {
   "cell_type": "code",
   "execution_count": 176,
   "metadata": {},
   "outputs": [],
   "source": [
    "# 5. Similar to Q5 sec 1"
   ]
  },
  {
   "cell_type": "code",
   "execution_count": 177,
   "metadata": {},
   "outputs": [],
   "source": [
    "# 6. Similar to Q6 sec 1"
   ]
  },
  {
   "cell_type": "code",
   "execution_count": null,
   "metadata": {},
   "outputs": [],
   "source": []
  }
 ],
 "metadata": {
  "kernelspec": {
   "display_name": "Python 3",
   "language": "python",
   "name": "python3"
  },
  "language_info": {
   "codemirror_mode": {
    "name": "ipython",
    "version": 3
   },
   "file_extension": ".py",
   "mimetype": "text/x-python",
   "name": "python",
   "nbconvert_exporter": "python",
   "pygments_lexer": "ipython3",
   "version": "3.8.5"
  }
 },
 "nbformat": 4,
 "nbformat_minor": 4
}
